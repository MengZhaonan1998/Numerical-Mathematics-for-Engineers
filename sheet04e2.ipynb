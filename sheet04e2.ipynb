{
 "cells": [
  {
   "cell_type": "markdown",
   "metadata": {},
   "source": [
    "# Exercise 2\n",
    "\n",
    "Consider the heat equation with Dirichlet boundary conditions on a domain $\\Omega = (0,1)^d$ with $d\\in\\mathbb{N}$, and some initial value $u_0 : \\overline\\Omega \\to \\mathbb{R}$ for $t=0$.\n",
    "\n",
    "\\begin{alignat*}{2}\n",
    "\t\\partial_t u(t,x) - \\Delta_x u(t,x)  &=  0 \\qquad &&\\text{for } \\; (t,x)\\in(0,T)\\times\\Omega, \\\\\n",
    "\tu(0,x) &= u_0(x) \\qquad &&\\text{for} \\; x \\in \\overline\\Omega \\\\\n",
    "\tu(t,x) &= g(t,x) \\qquad &&\\text{for} \\; t \\in [0,T] \\times \\partial \\Omega\n",
    "\\end{alignat*}\n",
    "\n",
    "Here $g:[0,T]\\times\\partial \\Omega\\to\\mathbb{R}$ denotes the values on the boundary, and we assume that $u_0 \\equiv g(0,\\cdot)$ holds on $\\partial \\Omega$.\n",
    "\n",
    "The goal of the rest of the exercise is to implement the numerical solution of the heat equation.\n",
    "Instead of applying a finite difference scheme to all variables, we will first discretize the space variable $x\\in\\mathbb{R}^d$, and then compute the <b>exact</b> solution of the resulting linear ODE.\n",
    "The resulting linear ODE will be of the form $\\partial_tu_h+L_hu_h=0$, where $u_h:(0,T)\\times\\Omega_h\\to\\mathbb R$ is a function of continuous time and discrete space.\n",
    "\n",
    "## Part c)\n",
    "\n",
    "Complete the function laplace_matrix, that discretizes the BVP with respect to space, by returning the matrix $L_h\\in\\mathbb R^{N,N}$ that defines the ODE."
   ]
  },
  {
   "cell_type": "code",
   "execution_count": 5,
   "metadata": {},
   "outputs": [],
   "source": [
    "import numpy as np\n",
    "import scipy as sp\n",
    "%matplotlib qt\n",
    "from scipy.sparse import diags\n",
    "# Do not use scipy.sparse.linalg.expm !\n",
    "from scipy.sparse.linalg import expm_multiply\n",
    "\n",
    "import matplotlib.pyplot as plt\n",
    "from mpl_toolkits.mplot3d import Axes3D\n",
    "from matplotlib import cm\n",
    "\n",
    "\n",
    "\n",
    "def laplace_matrix( n ):\n",
    "    h = 1/(n+1) #step size\n",
    "    L_h = np.zeros((n,n)) #generate a n*n zero matrix\n",
    "    e1 = -1   # index of the first element equal to 1 in the first row\n",
    "    e2 = -n   # index of the element equal to -2 in the first row\n",
    "    e3 = -n+1 # index of the second element equal to 1 in the first row\n",
    "    for i in range(n):\n",
    "        L_h[i,e1+i]=1  #element equal to 1 in i row\n",
    "        L_h[i,e2+i]=-2 #element equal to -2 in i row\n",
    "        L_h[i,e3+i]=1  #element equal to 1 in i row\n",
    "    L_h[0,n-1]=0\n",
    "    L_h[n-1,0]=0\n",
    "    L_h = -L_h/(h**2)\n",
    "    return L_h  "
   ]
  },
  {
   "cell_type": "markdown",
   "metadata": {},
   "source": [
    "## Part f)\n",
    "\n",
    "Let $N=100$ and\n",
    "\\begin{gather*}\n",
    "\t\tu_0(x) := \\left\\{ \\begin{array}{ll} 1 \\qquad & \\text{for} \\; \\left|x - \\frac{1}{2}\\right| < 10^{-1} \\\\ 0 \\qquad & \\text{else} \\end{array}\\right.\n",
    "\\end{gather*}\n",
    "\n",
    "Compute the solution to the heat equation for logarithmic equidistant spaced time steps $10^{-5} = t_1, \\dots, t_{19} = 10^{-2}$. Plot the result as a surface plot (including $t_0 = 0$). In another figure, plot $u(t_i,\\cdot)$ as a normal one dimensional function for $i=0,\\ldots,19$.\n",
    "- Although the times $t_1,\\ldots,t_{19}$ are defined with a logarithmic scale, the plots should have the linear scale.\n",
    "- One can use \"scipy.sparse.linalg.expm\" to compute the matrix exponential in Python. To compute the product $\\exp(At)b$, it is actually more efficient to use a dedicate function like \"scipy.sparse.linalg.expm_multiply\" instead."
   ]
  },
  {
   "cell_type": "code",
   "execution_count": 6,
   "metadata": {},
   "outputs": [
    {
     "data": {
      "text/plain": [
       "Text(0.5, 1.0, 'plot of u(ti,·) for i = 0,...,19')"
      ]
     },
     "execution_count": 6,
     "metadata": {},
     "output_type": "execute_result"
    }
   ],
   "source": [
    "n = 100\n",
    "\n",
    "h = 1/(n+1) #step size\n",
    "x_h = [(i+1)/(n+1) for i in range(n)] #space grid (without boundary)\n",
    "tlog = np.logspace(-5,-2,num=19) #time grid (without initial t)\n",
    "tlog = np.insert(tlog,0,0)\n",
    "L_h = laplace_matrix(n) #get L_h\n",
    "\n",
    "#Construct u_0(x_i)\n",
    "u_0 = np.zeros((n,1)) # n*1 vector\n",
    "for j in range(len(u_0)):\n",
    "    if abs(x_h[j]-0.5) < 0.1:\n",
    "        u_0[j] = 1  #When |x-1/2|<10^-1 u_0(x)=1 otherwise u_0(x)=0\n",
    "\n",
    "#Construct u_h(t,x_i). The solution u_h(t,x_i)=exp(L_h t)u_0(x_i) (assume that g=0)\n",
    "u_h = np.zeros(shape=(len(tlog),n)) #initialize u_h\n",
    "for k in range(len(tlog)):\n",
    "    L_ht = -L_h * tlog[k]  #L_h * t \n",
    "    u_h[k] = expm_multiply(L_ht,u_0).T #exp(L_h t)u_0(x_i)\n",
    "    \n",
    "#Add the boundary value\n",
    "bv = np.zeros((1,len(tlog))) #all boundary values are 0\n",
    "x_h.insert(0,0)\n",
    "x_h.append(1) \n",
    "u_h = np.insert(u_h,0,bv,axis=1) #insert 0 into u_h    \n",
    "u_h = np.insert(u_h,u_h.shape[1]-1,bv,axis=1)    \n",
    "    \n",
    "    \n",
    "fig = plt.figure()\n",
    "ax = plt.axes(projection='3d')\n",
    "ax.contour3D(x_h, tlog, u_h, 200)\n",
    "ax.set_xlabel('x_h')\n",
    "ax.set_ylabel('t')\n",
    "ax.set_zlabel('u_h');\n",
    "plt.title('Surface Plot of the solution u_h')\n",
    "\n",
    "fig = plt.figure()\n",
    "for i in range(len(tlog)):\n",
    "    plt.plot(x_h,u_h[i])\n",
    "plt.xlabel('x_h')\n",
    "plt.ylabel('u_h')\n",
    "plt.title('plot of u(ti,·) for i = 0,...,19')"
   ]
  },
  {
   "cell_type": "code",
   "execution_count": 2,
   "metadata": {},
   "outputs": [
    {
     "data": {
      "text/plain": [
       "100"
      ]
     },
     "execution_count": 2,
     "metadata": {},
     "output_type": "execute_result"
    }
   ],
   "source": [
    "len(x_h)"
   ]
  },
  {
   "cell_type": "markdown",
   "metadata": {},
   "source": [
    "## Part f)\n",
    "\n",
    "Let $N=100$ and\n",
    "\\begin{gather*}\n",
    "\t\tu_0(x) := \\left\\{ \\begin{array}{ll} 1 \\qquad & \\text{for} \\; \\left|x - \\frac{1}{2}\\right| < 10^{-1} \\\\ 0 \\qquad & \\text{else} \\end{array}\\right.\n",
    "\\end{gather*}\n",
    "\n",
    "Compute the solution to the heat equation for logarithmic equidistant spaced time steps $10^{-5} = t_1, \\dots, t_{19} = 10^{-2}$. Plot the result as a surface plot (including $t_0 = 0$). In another figure, plot $u(t_i,\\cdot)$ as a normal one dimensional function for $i=0,\\ldots,19$.\n",
    "- Although the times $t_1,\\ldots,t_{19}$ are defined with a logarithmic scale, the plots should have the linear scale.\n",
    "- One can use \"scipy.sparse.linalg.expm\" to compute the matrix exponential in Python. To compute the product $\\exp(At)b$, it is actually more efficient to use a dedicate function like \"scipy.sparse.linalg.expm_multiply\" instead.\n"
   ]
  },
  {
   "cell_type": "markdown",
   "metadata": {},
   "source": [
    "Plot in a third figure the quantity\n",
    "\n",
    "\\begin{gather*}\n",
    "\tH_h(t) := \\frac{h}{2}\\sum_{i=1}^N u_h(t,x_i)^2,\n",
    "\\end{gather*}\n",
    "\n",
    "along the previously computed simulation, against the time $t$."
   ]
  },
  {
   "cell_type": "code",
   "execution_count": 203,
   "metadata": {},
   "outputs": [
    {
     "data": {
      "text/plain": [
       "Text(0.5, 1.0, 'Plot of H_h(t)')"
      ]
     },
     "execution_count": 203,
     "metadata": {},
     "output_type": "execute_result"
    },
    {
     "data": {
      "image/png": "[encoded data removed]",
      "text/plain": [
       "<Figure size 432x288 with 1 Axes>"
      ]
     },
     "metadata": {
      "needs_background": "light"
     },
     "output_type": "display_data"
    }
   ],
   "source": [
    "def Hh( u ):\n",
    "    return (h/2)*sum(u**2)\n",
    "\n",
    "# Your code\n",
    "h = 1/(n+1) #step size\n",
    "for l in range(len(tlog)):\n",
    "    plt.scatter(tlog[l],Hh(u_h[l]),c='brown')\n",
    "plt.xlabel('t')\n",
    "plt.ylabel('H_h')\n",
    "plt.title('Plot of H_h(t)')"
   ]
  }
 ],
 "metadata": {
  "kernelspec": {
   "display_name": "Python 3",
   "language": "python",
   "name": "python3"
  },
  "language_info": {
   "codemirror_mode": {
    "name": "ipython",
    "version": 3
   },
   "file_extension": ".py",
   "mimetype": "text/x-python",
   "name": "python",
   "nbconvert_exporter": "python",
   "pygments_lexer": "ipython3",
   "version": "3.8.5"
  }
 },
 "nbformat": 4,
 "nbformat_minor": 4
}
