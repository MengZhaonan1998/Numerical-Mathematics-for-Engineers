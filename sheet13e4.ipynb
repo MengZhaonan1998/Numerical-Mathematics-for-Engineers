{
 "cells": [
  {
   "cell_type": "markdown",
   "id": "969762bb",
   "metadata": {},
   "source": [
    "# Exercise 3\n",
    "\n",
    "In this last exercise we'll extend the FEM-method we implemented last time. For a given mesh in two-dimensions with linear finite elements we want to approximate the Possion equation, with both Neumann and Dirchlet boundary conditions on different parts of the boundary.  As last time suppose you are given a domain $\\Omega\\subseteq\\mathbb{R}^2$ and a decomposition of boundary $\\partial\\Omega$ as a disjoint union of multiple connected components:\n",
    "$$\n",
    "\\partial \\Omega = \\bigcup_{ i \\in I_N \\cup I_D} \\Gamma_i.\n",
    "$$\n",
    "Consider the usual boundary value problem\n",
    "$$\n",
    "\\left\\{ \\begin{array}{rll}\n",
    "\t- \\Delta u & = f \\qquad & \\text{for } x \\in \\Omega\\\\\n",
    "\t\tu &= g_i \\qquad & \\text{for } x \\in \\Gamma_i \\; \\text{and} \\; i \\in I_D ,\\\\\n",
    "\t\t\\partial_\\nu u &= g_i \\qquad & \\text{for } x \\in \\Gamma_i \\; \\text{and} \\; i \\in I_N ,\n",
    "\\end{array}\\right.\n",
    "$$\n",
    "While your code should run for arbitrary $\\Omega$ and meshes, for testing we will use a mesh that discretizes:\n",
    "\\begin{gather*}\n",
    "\t\\Omega = \\Omega^{(0)} \\setminus \\Omega^{(1)} \\quad \\text{with } \\Omega^{(0)} := (0,3)^2 \\quad \\text{and} \\quad \\Omega^{(1)} := [1,2]^2,\\\\\n",
    "\t\\Gamma_0 := \\partial \\Omega_0 \\setminus \\Gamma_2, \\quad \\Gamma_1 := \\partial \\Omega_1 \\quad \\text{and} \\quad \\Gamma_2 := [0,3] \\times \\{ 0 \\}\\\\\n",
    "\tg_0(x,y) = \\left| y- \\frac{3}{2} \\right|, \\quad g_1(x,y) = 3 - \\left| x - \\frac{3}{2} \\right|\\quad \\text{and} \\quad g_2(x,y) = 1.\\\\\n",
    "\tf (x_1,x_2) :=  2 x_2 - x_1.\n",
    "\\end{gather*}\n",
    "For the full procedure to follow, we recommend you to review section III.6 from the script.\n",
    "\n",
    "As an example the coarse mesh should render like this:\n",
    "![title](images/example_grid.png)"
   ]
  },
  {
   "cell_type": "markdown",
   "id": "779f170a",
   "metadata": {},
   "source": [
    "### a) \n",
    "\n",
    "We provide a ```Problem``` class that will encode all relevant information. An instance will have the following properties:\n",
    "\n",
    "-  ```mesh```: The considered mesh as an instance of the ```Mesh``` class from last sheet.\n",
    "-  ```f```: A callable, that represents the right hand side of the equation. \n",
    "-  ```boundaries```: A dictionary that maps an identifier $i$ to an entry that contains:\n",
    "\t-  ```func```: A callable that represents $g_i$. \n",
    "\t-  ```condition```: Denotes the type of the boundary condition, e.g if $i \\in I_N$ it is equal to $N$ and if $i \\in I_D$ it is to $D$.\n",
    "\t\t\t \n",
    "<b>Note:</b> The callable properties take arrays of the size $(2,n)$ and return an array of size $(n,)$.\n",
    "\n",
    "You can create a instance of this class by calling ```Problem( path, mesh_name )```, where ```path``` is a string to the folder and ```mesh_name``` is the used mesh ( in our case fine or coarse). Load a problem and plot the mesh of it by reusing ```plot_mesh``` from last sheet."
   ]
  },
  {
   "cell_type": "code",
   "execution_count": null,
   "id": "b0606c89",
   "metadata": {},
   "outputs": [],
   "source": [
    "import numpy as np\n",
    "from problem import Problem\n",
    "\n",
    "\n"
   ]
  },
  {
   "cell_type": "markdown",
   "id": "30fb426d",
   "metadata": {},
   "source": [
    "### b\n",
    "\n",
    "Reuse the following functions from last sheet:\n",
    "\t\n",
    " - ```dof_local_to_global``` (optional)\n",
    " - ```gen_trafo2d```\n",
    " - ```get_S_loc```\n",
    " - ```get_M_loc```\n",
    " - ```get_global_matrix```\n",
    "\t\n",
    "Now whats left is to modify the remaining function:\n",
    "\t\n",
    " - ```get_bv```: Now it should returns a total of three vectors. The first one should be a Boolean vector in which one entry is true if the corresponding degree of freedom isn't determined by the boundary conditions, and false elsewhere. The second vector should store the value for the degree of freedom if it determined by the boundary condition and the last vector should return the right hand side for linear system. Takes a problem encoded in a ```Problem``` class.\n",
    " - ```get_uh```: Computes the solution of the BVP for a given problem encoded in a ```Problem``` class object. \n",
    "\t\n"
   ]
  },
  {
   "cell_type": "code",
   "execution_count": 17,
   "id": "818c2d61",
   "metadata": {},
   "outputs": [],
   "source": [
    "import numpy as np\n",
    "import matplotlib.pyplot as plt\n",
    "from matplotlib.tri import Triangulation\n",
    "from collections import namedtuple\n",
    "from scipy.sparse import dok_matrix\n",
    "from scipy.sparse.linalg import spsolve \n",
    "from problem import Problem\n",
    "from scipy.integrate import fixed_quad\n",
    "\n",
    "%matplotlib qt\n",
    "\n",
    "def get_M_loc( Fdet,Finv):\n",
    "    return \n",
    "\n",
    "def gen_trafo2d( mesh, e_k ):\n",
    "    return \n",
    "\n",
    "def get_bv(  problem ): \n",
    "    return \n",
    "\n",
    "def get_S_loc( Fdet, Finv ):   \n",
    "    return \n",
    "              \n",
    "def get_global_matrix( mesh , get_local ):\n",
    "    return \n",
    "\n",
    "def get_uh( problem ):\n",
    "    return \n"
   ]
  },
  {
   "cell_type": "markdown",
   "id": "da33c51f",
   "metadata": {},
   "source": [
    "### c)\n",
    "\n",
    "Finally, run your testing code for both provided meshes. Use ```plot_trisurf``` to show the discrete solutions of the BVP.\n",
    "\n",
    "<b>Hint:</b> before plotting you might need to build a triangulation structure, combining the given mesh data with ```matplotlib.tri.Triangulation```."
   ]
  },
  {
   "cell_type": "code",
   "execution_count": 18,
   "id": "f49d6de4",
   "metadata": {},
   "outputs": [],
   "source": [
    "\n",
    "\n",
    "\n",
    "for path, mesh_name in [(\"problems/box_box\",\"fine\"),(\"problems/box_box\",\"coarse\")]:\n",
    "    ...\n"
   ]
  }
 ],
 "metadata": {
  "kernelspec": {
   "display_name": "Python 3 (ipykernel)",
   "language": "python",
   "name": "python3"
  },
  "language_info": {
   "codemirror_mode": {
    "name": "ipython",
    "version": 3
   },
   "file_extension": ".py",
   "mimetype": "text/x-python",
   "name": "python",
   "nbconvert_exporter": "python",
   "pygments_lexer": "ipython3",
   "version": "3.9.10"
  }
 },
 "nbformat": 4,
 "nbformat_minor": 5
}
