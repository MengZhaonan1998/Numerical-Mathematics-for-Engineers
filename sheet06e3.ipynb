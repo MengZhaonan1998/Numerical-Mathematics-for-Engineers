{
 "cells": [
  {
   "cell_type": "markdown",
   "metadata": {},
   "source": [
    "# Exercise 3 ( Warmup with multidimensional stencils )\n",
    "\n",
    "In this exercise we want to solve:\n",
    "$$\n",
    "\\left\\{ \\begin{array}{rll} - \\Delta u &= f  \\qquad &\\text{in} \\; \\; \\Omega := (0,1)^2 \\subset \\mathbb{R}^2,\\\\\n",
    "u & = 0 \\qquad &\\text{on} \\;\\; \\partial \\Omega,\n",
    "\\end{array} \\right.\n",
    "$$\n",
    "\n",
    "where we define $u$ and $f$ as:\n",
    "$$\n",
    "u(x,y) := \\sin( 3 \\pi x ) \\sin( \\pi y ) \\qquad f(x,y) := 10 \\pi^2 \\sin( 3 \\pi x ) \\sin( \\pi y )\n",
    "$$\n"
   ]
  },
  {
   "cell_type": "markdown",
   "metadata": {},
   "source": [
    "### a)\n",
    "\n",
    "Take a look at the ```kron``` function from scipy.sparse. Use the function to create the discretized Laplace operator in arbritrary dimensions. For that write a function ```laplace_matrix_nd```, which takes a tuple $n$ as an input and returns the matrix $L_h$ that represents the laplace operator for a discretization with a grid containing $n_i$ grid points in each dimension. Inspect the resulting matrix for $n \\in \\{ (4,5), (4,5,6),(4,5,6,7) \\}$ with ```spy```.\n",
    "\n",
    "<b>Hint:</b> Write a recursive function."
   ]
  },
  {
   "cell_type": "code",
   "execution_count": 1,
   "metadata": {},
   "outputs": [],
   "source": [
    "import numpy as np\n",
    "import scipy as sp\n",
    "from scipy.sparse import kron, eye, diags, csc_matrix\n",
    "import scipy.sparse.linalg\n",
    "\n",
    "import matplotlib.pyplot as plt\n",
    "%matplotlib qt\n",
    "\n",
    "def laplace_matrix_nd( n ):\n",
    "    if len(n) == 1:\n",
    "        h = 1/( n[0] + 1 ) #step size for n1\n",
    "        return -diags([-2*np.ones(n[0]),np.ones(n[0]),np.ones(n[0])],[0,-1,1]) / (h**2)  #L matrix for first dimension n1\n",
    "    else:\n",
    "        h = 1 / (n[-1]+1) #step size for i \n",
    "        d = np.prod(n[:-1]) \n",
    "        I = ( eye( n[-1] * d , n[-1] * d , -d ) + eye( n[-1] * d, n[-1] * d ,d ) ) / (h**2) # In for upper and lower diagonal\n",
    "        T = kron( diags( np.ones(n[-1]) ,0) , laplace_matrix_nd( n[:-1] ) ) + 2 * diags( np.ones(n[-1] * d)  ,0 )/ (h**2) # Tn for diagonal\n",
    "        return T - I\n",
    "        \n",
    "plt.figure(figsize=(12,12))\n",
    "plt.subplots_adjust(hspace=0.3,wspace=0.3)\n",
    "for n in [(4,), (4,5), (4,5,6), (4,5,6,7)]:\n",
    "    plt.subplot(2,2, [(4,), (4,5), (4,5,6), (4,5,6,7)].index(n)+1 )\n",
    "    plt.spy(laplace_matrix_nd( n ).toarray()) "
   ]
  },
  {
   "cell_type": "markdown",
   "metadata": {},
   "source": [
    "### b)\n",
    "\n",
    "For $n= (20,30)$ create the corresponding grid and then create the right hand side $f_h$. Solve the BVP and plot the approximated solution $u_h$ in a surface plot right next to the analytic solution $u$ with $n=(100,100)$."
   ]
  },
  {
   "cell_type": "code",
   "execution_count": 3,
   "metadata": {},
   "outputs": [
    {
     "data": {
      "text/plain": [
       "Text(0.5, 0.92, '3D plot of analytic u')"
      ]
     },
     "execution_count": 3,
     "metadata": {},
     "output_type": "execute_result"
    }
   ],
   "source": [
    "def f(x,y):\n",
    "    return 10 * np.pi ** 2 * np.sin( 3 * np.pi * x ) * np.sin( np.pi * y)\n",
    "\n",
    "def u(x,y):\n",
    "    return np.sin( 3 * np.pi * x ) * np.sin( np.pi * y)\n",
    "\n",
    "# Your code\n",
    "n = (100,110)\n",
    "\n",
    "#Construct f_h\n",
    "x = np.linspace(0,1,n[0]+2)[1:-1] # x grid\n",
    "y = np.linspace(0,1,n[1]+2)[1:-1] # y grid\n",
    "\n",
    "fh = []\n",
    "for i in y:\n",
    "    for j in x:\n",
    "        fh.append( f(j,i) ) # Construct discretized f_h\n",
    "\n",
    "Lh = csc_matrix(laplace_matrix_nd(n)) \n",
    "uh = scipy.sparse.linalg.spsolve(Lh,fh) #Solve L_h * u_h = f_h\n",
    "\n",
    "Uh = np.zeros(n) #Construct matrix u_h\n",
    "for i in range(n[0]):\n",
    "    for j in range(n[1]):\n",
    "        Uh[i][j] = uh[j*n[0]+i]  \n",
    "\n",
    "# Plot\n",
    "fig = plt.figure(figsize=plt.figaspect(0.4))\n",
    "x,y = np.meshgrid(x,y)\n",
    "ax = fig.add_subplot(1, 2, 1, projection='3d')\n",
    "ax.plot_surface(x, y, Uh.T,cmap='viridis', edgecolor='none')\n",
    "ax.set_xlabel('x')\n",
    "ax.set_ylabel('y')\n",
    "ax.set_zlabel('discretized u_h')\n",
    "ax.set_title('3D plot of discretized u_h')\n",
    "\n",
    "Ua = u(x,y)\n",
    "ax = fig.add_subplot(1, 2, 2, projection='3d')\n",
    "ax.plot_surface(x, y, Ua,cmap='viridis', edgecolor='none')\n",
    "ax.set_xlabel('x')\n",
    "ax.set_ylabel('y')\n",
    "ax.set_zlabel('analytic u')\n",
    "ax.set_title('3D plot of analytic u')"
   ]
  },
  {
   "cell_type": "markdown",
   "metadata": {},
   "source": [
    "### c)\n",
    "\n",
    "Compute the error between $u_h$ and $u$ in the maximum norm. Create a log-log plot of the error against the size, e.g the number of variables for the linear system, for the following two different strategies to choose $n_1$ and $n_2$:\n",
    "\n",
    "- For ten approximately logarithmic evenly spaced $n_1$ between 10 and 1000 and fixed $n_2 = 100$\n",
    "\n",
    "- For ten approximately logarithmic evenly spaced $n_1 = n_2$ between 30 and 300.\n",
    "\n",
    "Plot both graphs in the same figure.\n",
    "\n",
    "<b>Note:</b> Make sure $n_i$ is always an integer."
   ]
  },
  {
   "cell_type": "code",
   "execution_count": null,
   "metadata": {},
   "outputs": [],
   "source": [
    "def error( x_h, u_h ):\n",
    "    \n",
    "    u_a = u(np.array(x_h).T[0],np.array(x_h).T[1]) # analytic solution of the PDE\n",
    "    error = max( abs( u_a - u_h ) ) # error: max( |ua - uh| )\n",
    "    \n",
    "    return error\n",
    "\n",
    "# Your code\n",
    "# Case 1\n",
    "n1 = np.round(np.logspace(1,3,10)) # number of grid points for the 1st dimension\n",
    "n2 = 100                           # number of grid points for the 2nd dimension\n",
    "error_list = []                    # the list to store the error in different n1\n",
    "y = np.linspace(0, 1, n2+2)[1:-1]  # grid for the 2nd dimension y\n",
    "for k in n1:\n",
    "    x = np.linspace(0, 1, int(k) +2 )[1:-1]  # x grid\n",
    "    fh = []   # list for discretized f\n",
    "    xh = []   # list for discretized space\n",
    "    for i in y:\n",
    "        for j in x:\n",
    "            fh.append( f(j,i) )\n",
    "            xh.append( (j,i) )\n",
    "    uh = scipy.sparse.linalg.spsolve(laplace_matrix_nd((int(k),n2)),fh) #Solve L_h * u_h = f_h\n",
    "    error_list.append( error(xh,uh) )\n",
    "\n",
    "fig, ax = plt.subplots(1, 2)\n",
    "fig.set_size_inches(8,4,forward=True)\n",
    "ax[0].loglog(n1,error_list)\n",
    "ax[0].set_title('error vs n1=10,...1000')\n",
    "ax[0].set_xlabel('n1')\n",
    "ax[0].set_ylabel('error')\n",
    "\n",
    "# Case 2\n",
    "n1 = np.round(3*np.logspace(1,2,10)) # number of grid points for the 1st dimension\n",
    "error_list2 = []\n",
    "for k in n1:\n",
    "    x = np.linspace(0, 1, int(k) +2 )[1:-1]  # x grid\n",
    "    y = x # grid for y\n",
    "    fh = []\n",
    "    xh = []\n",
    "    for i in y:\n",
    "        for j in x:\n",
    "            fh.append( f(j,i) )\n",
    "            xh.append( (j,i) )\n",
    "    uh = scipy.sparse.linalg.spsolve(laplace_matrix_nd((int(k),int(k))),fh) #Solve L_h * u_h = f_h\n",
    "    error_list2.append( error(xh,uh) )\n",
    "\n",
    "ax[1].loglog(n1,error_list2)\n",
    "ax[1].set_title('error vs n1,n2=30,...300')\n",
    "ax[1].set_xlabel('n1(n2)')\n",
    "ax[1].set_ylabel('error')\n",
    "fig.tight_layout()\n",
    "plt.show()"
   ]
  }
 ],
 "metadata": {
  "kernelspec": {
   "display_name": "Python 3",
   "language": "python",
   "name": "python3"
  },
  "language_info": {
   "codemirror_mode": {
    "name": "ipython",
    "version": 3
   },
   "file_extension": ".py",
   "mimetype": "text/x-python",
   "name": "python",
   "nbconvert_exporter": "python",
   "pygments_lexer": "ipython3",
   "version": "3.8.5"
  }
 },
 "nbformat": 4,
 "nbformat_minor": 2
}
