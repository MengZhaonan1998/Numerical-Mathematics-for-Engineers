{
 "cells": [
  {
   "cell_type": "markdown",
   "metadata": {},
   "source": [
    "# Exercise 3\n",
    "\n",
    "Consider the following boundary value problem (BVP):\n",
    "\n",
    "\\begin{gather*}\n",
    "\t- u^{\\prime \\prime}(x) - 4 u^{\\prime } (x) + u(x) = f(x) \\qquad  \\text{for} \\; x \\in \\Omega := (0,1),\\\\\n",
    "\tu(0) = 1 \\quad \\text{and} \\quad  u(1) = 2 \n",
    "\\end{gather*}\n",
    "\n",
    "Let us assume that the exact solution is given by $u(x) = 1 + 4x^2 - 3x^3$. We want to solve this problem\n",
    "via FDM. For some integer $p \\in \\mathbb{R}$ with $p > 1$ let $N := 2^p - 1 \\in \\mathbb{R}$ and the grid size\n",
    "$h := \\frac{1}{ N +1}$ be given. Then, our discrete domain is $\\Omega_h := \\left\\{ i h \\in \\mathbb{R} : i = 0, . . . , N + 1\\right\\}$.\n"
   ]
  },
  {
   "cell_type": "markdown",
   "metadata": {},
   "source": [
    "### Part a)\n",
    "\n",
    "Write a function getbvp(p) that, for a given $p$, sets up the grid $x_h$, the sparse matrix $L_h$, and the right hand side $f_h$ and returns all of them as a list/tuple $(x_h,L_h,f_h)$."
   ]
  },
  {
   "cell_type": "code",
   "execution_count": 4,
   "metadata": {},
   "outputs": [],
   "source": [
    "import numpy as np\n",
    "import scipy.sparse as sp\n",
    "import matplotlib.pyplot as plt\n",
    "import math\n",
    "def getbvp( p ):\n",
    "    #initial values for the BVP \n",
    "    alpha=1\n",
    "    beta=2\n",
    "    \n",
    "    a=1\n",
    "    b=-4\n",
    "    c=1\n",
    "    \n",
    "    # Setting the vector xh as {h,2h,...,Nh} without the boundary \n",
    "    N=2**p -1  # number of meshigrids\n",
    "    h=1/(N+1)  # step size\n",
    "    omega_h_bara=np.array([i*h for i in range(N+2)])\n",
    "    xh=np.delete(omega_h_bara,[0,N+1])\n",
    "    \n",
    "    \n",
    "    #defining the tridiagonal Matrixes and then multiplie them by their corresponding coefficients \n",
    "    k1=[np.ones(N-1),-2*np.ones(N),np.ones(N-1)]\n",
    "    offset=[-1,0,1]\n",
    "    L1=sp.diags(k1,offset).toarray()\n",
    "    \n",
    "    \n",
    "    k2=[-1*np.ones(N-1),np.zeros(N),np.ones(N-1)]\n",
    "    L2=sp.diags(k2,offset).toarray()\n",
    "    \n",
    "    L3=sp.diags(np.ones(N)).toarray()\n",
    "    \n",
    "    #defining the L_h Matrix\n",
    "    Lh=-(a/h**2)*L1 + (b/2*h)*L2 + c*L3\n",
    "    \n",
    "    #calculating the right hand side fh of the reduced problem\n",
    "    fh=np.array([-7-14*x+40*(x**2)-3*(x**3) for x in xh])\n",
    "    \n",
    "    #inhomogeneity\n",
    "    fh[0]=fh[0]+alpha*((a/h**2)+(b/2*h))\n",
    "    fh[N-1]=fh[N-1]+beta*((a/h**2)-(b/2*h))\n",
    "    \n",
    "    return xh, Lh, fh\n"
   ]
  },
  {
   "cell_type": "markdown",
   "metadata": {},
   "source": [
    "### Part b)\n",
    "\n",
    "Consider the error between the numerical solution and the exact solution w.r.t the maximum norm, e.g \n",
    "\n",
    "\\begin{gather*}\n",
    "e(h) := \\underset{i}{\\max} | u_h(ih) - u(ih) |.\n",
    "\\end{gather*}\n",
    "\n",
    "For $p = 1, \\dots , 12$ solve the discretized problem and calculate the error $e(h)$. Plot the error $e(h)$ versus the grid size $h$ (and not $p$) in a log-log plot. "
   ]
  },
  {
   "cell_type": "code",
   "execution_count": 5,
   "metadata": {},
   "outputs": [
    {
     "data": {
      "image/png": "[encoded data removed]",
      "text/plain": [
       "<Figure size 432x288 with 1 Axes>"
      ]
     },
     "metadata": {
      "needs_background": "light"
     },
     "output_type": "display_data"
    }
   ],
   "source": [
    "def err(h):\n",
    "    \n",
    "    #to use BVP function, we first need to get the value of p with the following formula\n",
    "    p=int(math.log(1/h,2))\n",
    "    s=getbvp(p)\n",
    "    \n",
    "    #to calculate the uh (the discertized approximation of U, we solve the liear system Lh*uh=fh)\n",
    "    uh=np.linalg.solve(s[1], s[2])\n",
    "    \n",
    "    #the analytics soloutin to U as given \n",
    "    u=[1+4*(x**2)-3*(x**3) for x in s[0]]\n",
    "    \n",
    "    #The Error in Maximum Norm\n",
    "    e=np.amax(abs(uh-u))\n",
    "    \n",
    "    return e\n",
    "\n",
    "#Computing Error for p=1,...,12\n",
    "p = np.arange(1,12)\n",
    "N = 2**p -1\n",
    "h = 1/(N+1)\n",
    "eh = [err(h1_12) for h1_12 in h]\n",
    "\n",
    "# plot it here\n",
    "plt.loglog(h,eh)\n",
    "plt.title('error Vs. grid size loglog')\n",
    "plt.xlabel('grid size: h')\n",
    "plt.ylabel('error: eh')\n",
    "plt.show()"
   ]
  },
  {
   "cell_type": "markdown",
   "metadata": {},
   "source": [
    "### Part c)\n",
    "\n",
    "Add the following functionality to your code from the last subtask. Consider the error between the numerical solution of mesh size $h$ (denoted by $u_h$ ) and of mesh size $\\frac{h}{2}$ (denoted by $u_{h/2}$ ). For a sequence of deceasing $h$ values, compute the a-posteriori error\n",
    "\n",
    "\\begin{gather} \n",
    "\\bar{e}_h := \\underset{i}{\\max} |u_h (ih) - u_{h/2} (ih) |.\n",
    "\\end{gather}\n",
    "\n",
    "Plot the error in a logarithmic plot, but as a separate plot from the last subtask.\n",
    "Plot the error $\\bar{e}(h)$ versus the grid size $h$ (and again not $p$). \t"
   ]
  },
  {
   "cell_type": "code",
   "execution_count": 6,
   "metadata": {},
   "outputs": [
    {
     "data": {
      "image/png": "[encoded data removed]",
      "text/plain": [
       "<Figure size 432x288 with 1 Axes>"
      ]
     },
     "metadata": {
      "needs_background": "light"
     },
     "output_type": "display_data"
    }
   ],
   "source": [
    "def err_post( h ):\n",
    "    \n",
    "    p1 =int(math.log(1/h,2))\n",
    "    s1 = getbvp(p1)\n",
    "    uh = np.linalg.solve(s1[1], s1[2])\n",
    "    \n",
    "    p2 =int(math.log(2/h,2))\n",
    "    s2 = getbvp(p2)\n",
    "    uh2 = np.linalg.solve(s2[1], s2[2])\n",
    "    \n",
    "    #since our step size is diffrent, uh and uh/2 do not have the same number of points so we have to compare the points in \n",
    "    #uh with only same points that we have in Uh/2\n",
    "\n",
    "    ebar = np.amax(abs(uh-uh2[1::2]))\n",
    "    \n",
    "    return ebar\n",
    "\n",
    "# plot it here\n",
    "\n",
    "p = np.arange(1,12)\n",
    "N = 2**p -1\n",
    "h = 1/(N+1)\n",
    "ehbar = [err_post(h1_12) for h1_12 in h]\n",
    "\n",
    "# plot it here\n",
    "plt.loglog(h,ehbar)\n",
    "plt.title('posteriori error Vs. grid size loglog')\n",
    "plt.xlabel('grid size: h')\n",
    "plt.ylabel('posteriori error: eh bar')\n",
    "plt.show()"
   ]
  },
  {
   "cell_type": "code",
   "execution_count": null,
   "metadata": {},
   "outputs": [],
   "source": []
  }
 ],
 "metadata": {
  "kernelspec": {
   "display_name": "Python 3",
   "language": "python",
   "name": "python3"
  },
  "language_info": {
   "codemirror_mode": {
    "name": "ipython",
    "version": 3
   },
   "file_extension": ".py",
   "mimetype": "text/x-python",
   "name": "python",
   "nbconvert_exporter": "python",
   "pygments_lexer": "ipython3",
   "version": "3.8.5"
  }
 },
 "nbformat": 4,
 "nbformat_minor": 5
}
