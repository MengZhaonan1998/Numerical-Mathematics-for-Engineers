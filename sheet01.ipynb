{
 "cells": [
  {
   "cell_type": "markdown",
   "metadata": {},
   "source": [
    "# Warmup with Python\n",
    "\n",
    "### Plots in 1d\n",
    "\n",
    "Let $I = [0,2]$. Plot the following function:\n",
    "<ol>\n",
    "  <li>A simple damped oscillation: $$f : I \\to \\mathbb{R}, \\qquad x \\to \\text{exp}( - 3 x ) \\text{sin}( 20 x ).$$\n",
    "  <li>A function with a case distinction, $$g : I \\to \\mathbb{R}, \\qquad x \\to \\left\\{\\begin{array}{ll} x^{\\frac{1}{4}}& \\text{for} \\; x \\le 1 \\\\ 1 & \\text{for} \\; x > 1. \\end{array}\\right.$$ Compute these function without any loops and ifs. <b>Hint:</b> Use boolean indexing as descriped <a href=\"https://numpy.org/doc/stable/reference/arrays.indexing.html\">here</a></li>\n",
    "</ol>\n"
   ]
  },
  {
   "cell_type": "code",
   "execution_count": 27,
   "metadata": {},
   "outputs": [
    {
     "data": {
      "text/plain": [
       "Text(0.5, 1.0, 'plot of f(x) and g(x)')"
      ]
     },
     "execution_count": 27,
     "metadata": {},
     "output_type": "execute_result"
    }
   ],
   "source": [
    "import numpy as np\n",
    "import matplotlib\n",
    "import matplotlib.pyplot as plt\n",
    "from matplotlib.ticker import LinearLocator\n",
    "from matplotlib import cm\n",
    "\n",
    "# for plotting in the notebook\n",
    "#%matplotlib inline\n",
    "# for plotting in a new window\n",
    "%matplotlib qt\n",
    "\n",
    "def f(x):\n",
    "    y = np.exp(-3*x) * np.sin(20*x)\n",
    "    return y\n",
    "\n",
    "def g (x):\n",
    "    a1 = np.array(x)\n",
    "    a2 = np.append(np.ones(int(n/2)),np.zeros(int(n/2)))\n",
    "    a3 = np.append(np.zeros(int(n/2)),np.ones(int(n/2)))\n",
    "    y = pow(x,0.25)*a2 + 1*a3\n",
    "    return y\n",
    "\n",
    "n = 250\n",
    "\n",
    "#### Discretize the interval I with an equidistant mesh ( hint: linspace ) ####\n",
    "x = np.linspace(0,2,n)\n",
    "\n",
    "fig = plt.figure()\n",
    "#### Plot f and g in the same figure. ####\n",
    "\n",
    "plt.plot(x,f(x))\n",
    "plt.plot(x,g(x))\n",
    "\n",
    "#### Generate a legend and set a title. ####\n",
    "plt.legend([''])\n",
    "plt.title(\"plot of f(x) and g(x)\")"
   ]
  },
  {
   "cell_type": "markdown",
   "metadata": {},
   "source": [
    "### Plots in 2d\n",
    "\n",
    "Consider the interval $J := [- 2 \\pi , 2 \\pi ]$ and the function:\n",
    "$$ h : J \\times J \\to \\mathbb{R}, \\qquad (x,y) \\to \\text{sin}(x + y) \\text{sin}(x -y) $$\n",
    "The goal of this exercise is to create a two dimensional surface plot of $h$ as described <a href=\"https://matplotlib.org/stable/gallery/mplot3d/surface3d.html\">here</a>."
   ]
  },
  {
   "cell_type": "code",
   "execution_count": 28,
   "metadata": {},
   "outputs": [
    {
     "data": {
      "text/plain": [
       "<matplotlib.colorbar.Colorbar at 0x23959c25760>"
      ]
     },
     "execution_count": 28,
     "metadata": {},
     "output_type": "execute_result"
    }
   ],
   "source": [
    "#### Discretize the interval J as before. ####\n",
    "x = np.arange(-2*np.pi,2*np.pi,0.25)\n",
    "# we also need the second axis\n",
    "y = np.arange(-2*np.pi,2*np.pi,0.25)\n",
    "\n",
    "# create a 2d array containing all points [ [ x_0, ... , x_{n-1} ], .. , [ x_0, ..., x_{n-1 } ] ]\n",
    "# and also a 2d array containing the points [[ y_0, ... y_0 ], ... [y_{n-1}, ... , y_{n-1} ] ]\n",
    "xx,yy = np.meshgrid(x,y)\n",
    "\n",
    "def h (x,y):\n",
    "    return np.sin(x+y)*np.sin(x-y)\n",
    "\n",
    "zz = h(xx,yy)\n",
    "\n",
    "#fig = plt.figure()\n",
    "# Plot the values zz into the figure\n",
    "fig, ax = plt.subplots(subplot_kw={\"projection\": \"3d\"})\n",
    "surf = ax.plot_surface(xx,yy,zz,cmap=cm.coolwarm, linewidth=0, antialiased=False)\n",
    "\n",
    "\n",
    "fig.colorbar(surf, shrink=0.5, aspect=5)"
   ]
  }
 ],
 "metadata": {
  "kernelspec": {
   "display_name": "Python 3",
   "language": "python",
   "name": "python3"
  },
  "language_info": {
   "codemirror_mode": {
    "name": "ipython",
    "version": 3
   },
   "file_extension": ".py",
   "mimetype": "text/x-python",
   "name": "python",
   "nbconvert_exporter": "python",
   "pygments_lexer": "ipython3",
   "version": "3.8.5"
  }
 },
 "nbformat": 4,
 "nbformat_minor": 2
}
