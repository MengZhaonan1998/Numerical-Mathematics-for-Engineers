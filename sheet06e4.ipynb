{
 "cells": [
  {
   "cell_type": "markdown",
   "metadata": {},
   "source": [
    "# Exercise 4 \n",
    "\n",
    "We assume that we have a pipe of infinitisimal thickness. We can parametrize the surface of the pipe with two dimensional polorid coordinates and we will arrive at the approximated two dimensional heat equation:\n",
    "\n",
    "$$\n",
    "\\left\\{ \\begin{array}{rll}\n",
    "\\partial_t u(t,\\theta,z ) &= \\frac{1}{r^2} \\partial^2_{\\theta} u(t,\\theta, z ) + \\partial_{z}^2 u(t,\\theta, z ) \\qquad & \\text{for} \\; (\\theta, z ) \\in \\Omega := [0, 2 \\pi ) \\times [ 0, 1 ] \\\\\n",
    "u(0,\\cdot,\\cdot) &= u_0 \\\\\n",
    "u(t,\\cdot,z) &= 0 \\qquad & \\text{for} \\; z \\in \\{ 0, 1 \\}\n",
    "\\end{array}\n",
    "\\right.\n",
    "$$\n",
    "\n",
    "where $ \\frac{1}{3} =: r > 0$ denotes the radius of the pipe. Note that $u$ is periodic in $\\theta$.\n",
    "\n",
    "For $u_0$ we choose:\n",
    "$$\n",
    "u_0(\\theta, z ) := \n",
    "\\left\\{ \n",
    "\\begin{array}{lcl} \n",
    "\t1 & \\qquad & \\text{if} \\; 0 \\le \\theta \\le \\frac{\\pi}{8} \\; \\text{and} \\; \\left|z - \\frac{1}{2} \\right| \\le 10^{-1}\\\\\n",
    "\t0 & \\qquad &\\text{else}\\\\\n",
    "\t\\end{array}\n",
    "\t\\right.\n",
    "$$"
   ]
  },
  {
   "cell_type": "markdown",
   "metadata": {},
   "source": [
    "### a )\n",
    "\n",
    "Create the discretized values $L_h, u_{h,0}$ as before. For the grid use $n = (150,100)$. Solve the resulting linear ODE with the help of the matrix exponential as in No.2 on sheet 4. Plot the result for $t=0$, $t=10^{-2}$ and $t = 5 \\cdot 10^{-2}$ side by side in a surface plot."
   ]
  },
  {
   "cell_type": "code",
   "execution_count": 4,
   "metadata": {},
   "outputs": [],
   "source": [
    "import numpy as np\n",
    "from scipy.sparse import diags, eye, kron, csc_matrix\n",
    "from scipy.sparse.linalg import expm_multiply\n",
    "import matplotlib.pyplot as plt\n",
    "%matplotlib qt\n",
    "import math\n",
    "\n",
    "def get_bvp(n1,n2):\n",
    "    h1 = 2*np.pi/(n1+1) #step size for theta grid\n",
    "    h2 = 1/(n2+1)       #step size for z grid\n",
    "    \n",
    "    #Construct T matrix\n",
    "    d1 = -( (2*9)/(h1**2) + 2/(h2**2) )*np.ones(n1)  #main diagonal\n",
    "    d2 =  9/(h1**2)*np.ones(n1-1)  #upper and lower diagonal\n",
    "    T = diags([d1,d2,d2,9/(h1**2),9/(h1**2)],[0,-1,1,-n1+1,n1-1])\n",
    "\n",
    "    #Construct I matrix\n",
    "    In2 = diags(np.ones(n2),0) \n",
    "    \n",
    "    #Construct Lh\n",
    "    T = kron(In2,T) #diagonal T\n",
    "    \n",
    "    I = (1/(h2**2))*(eye(n1*n2,n1*n2,-n1)+eye(n1*n2,n1*n2,n1))  #I_N  (this is for z grid part) \n",
    "    Lh = -(T + I)\n",
    "    \n",
    "    #Construct initial u0(theta,z)\n",
    "    u0 = np.zeros((n1*n2,1))\n",
    "    for i in range(n1):\n",
    "        for j in range(n2):\n",
    "            if (i+1)*h1 <= np.pi/8 and abs( (j+1)*h2 - 0.5 ) <= 0.1:\n",
    "                u0[j*n1+i] = 1\n",
    "    \n",
    "    return Lh,u0\n",
    "\n",
    "n1 = 100\n",
    "n2 = 100\n",
    "Lh,u0 = get_bvp(n1,n2)\n",
    "\n",
    "#Plot surface\n",
    "tlist = [0,0.1,0.05] #t=0,0.1,0.5\n",
    "fig = plt.figure(figsize=plt.figaspect(0.5))\n",
    "for k in tlist:\n",
    "    Lht = -Lh * k  #L_h * t \n",
    "    uh = expm_multiply(Lht,u0) # uh = exp(L_h t)u_0(x_i)   \n",
    "    theta = np.linspace(0,2*np.pi,n1+2)[1:-1]\n",
    "    z = np.linspace(0,1,n2+2)[1:-1]\n",
    "    Uh = np.zeros((n1,n2)) #Construct matrix u_h\n",
    "    for i in range(n1):\n",
    "        for j in range(n2):\n",
    "            Uh[i][j] = uh[j*n1+i]\n",
    "    \n",
    "    z, theta = np.meshgrid(z, theta)\n",
    "    ax = fig.add_subplot(1, 3, tlist.index(k)+1, projection='3d')\n",
    "    ax.plot_surface(z, theta, Uh,cmap='viridis', edgecolor='none')\n",
    "    ax.set_title('Surface plot when t={}'.format(k))\n",
    "    ax.set_xlabel('z')\n",
    "    ax.set_ylabel('theta')\n",
    "    ax.set_zlabel('u_h')\n",
    "    plt.show()\n",
    "    \n",
    "# Please wait for around 16 seconds"
   ]
  },
  {
   "cell_type": "markdown",
   "metadata": {},
   "source": [
    "### b)\n",
    "\n",
    "Compute the quantity \n",
    "\n",
    "$$\n",
    "\tH_h(t) := \\frac{2 \\pi }{ n_1 n_2  } \\sum_{i,j} u_h(t,\\theta_i, z_j)^2\n",
    "$$\n",
    "\n",
    "for $t_0 = 0$ and $t_1,\\dots, t_{9}$ evenly logarithmitcly spaced between $10^{-5}$ and $10^{-2}$. Plot the result with linear scaled axes."
   ]
  },
  {
   "cell_type": "code",
   "execution_count": 14,
   "metadata": {},
   "outputs": [
    {
     "data": {
      "text/plain": [
       "Text(0, 0.5, 'H')"
      ]
     },
     "execution_count": 14,
     "metadata": {},
     "output_type": "execute_result"
    }
   ],
   "source": [
    "\n",
    "def H(t):\n",
    "    Lht = -Lh * t  #-L_h * t \n",
    "    uh = expm_multiply(Lht,u0) #solution uh\n",
    "    H = 2 * np.pi * sum([i**2 for i in uh])/n1/n2 # get H\n",
    "    return float(H)\n",
    "    \n",
    "#Your code\n",
    "t = np.logspace(-5,-2,9) \n",
    "t = np.insert(t,0,0)  #time space\n",
    "\n",
    "for l in t:\n",
    "    plt.scatter(l,H(l),c='brown') #plot t vs H\n",
    "plt.title('Plot of H(t)')\n",
    "plt.xlabel('t')\n",
    "plt.ylabel('H')"
   ]
  },
  {
   "cell_type": "code",
   "execution_count": null,
   "metadata": {},
   "outputs": [],
   "source": []
  }
 ],
 "metadata": {
  "kernelspec": {
   "display_name": "Python 3",
   "language": "python",
   "name": "python3"
  },
  "language_info": {
   "codemirror_mode": {
    "name": "ipython",
    "version": 3
   },
   "file_extension": ".py",
   "mimetype": "text/x-python",
   "name": "python",
   "nbconvert_exporter": "python",
   "pygments_lexer": "ipython3",
   "version": "3.8.5"
  }
 },
 "nbformat": 4,
 "nbformat_minor": 5
}
