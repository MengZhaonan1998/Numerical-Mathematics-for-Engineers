{
 "cells": [
  {
   "cell_type": "code",
   "execution_count": 43,
   "metadata": {},
   "outputs": [
    {
     "data": {
      "text/plain": [
       "Text(0.5, 0, 'u_h')"
      ]
     },
     "execution_count": 43,
     "metadata": {},
     "output_type": "execute_result"
    }
   ],
   "source": [
    "import numpy as np\n",
    "import matplotlib.pyplot as plt\n",
    "from scipy.sparse import diags, eye, kron, csr_matrix\n",
    "from scipy.sparse.linalg import spsolve\n",
    "%matplotlib qt\n",
    "\n",
    "\n",
    "def get_bvp( N ):\n",
    "    \n",
    "    h = 1/(N+1)  # step size\n",
    "    d  = -4 * np.ones(N)\n",
    "    du = np.ones(N-1)\n",
    "    dl = np.ones(N-1)\n",
    "    T = diags([d,du,dl],[0,-1,1])\n",
    "    I = diags([np.ones(N)],[0])\n",
    "    T = kron(I,T)\n",
    "    E1 = eye(N*N,N*N,N)\n",
    "    E2 = eye(N*N,N*N,-N)\n",
    "    Lh = - (T+E1+E2) / (h**2)  # L_h\n",
    "    g = np.zeros(N*N)  # boundary value\n",
    "    for i in range(N):\n",
    "        g[i] = 1 - abs((i+1)*h - 0)\n",
    "        g[N*N-N+i] = 1 - abs((i+1)*h - 1)\n",
    "        g[N*i] = g[N*i] + 1 - abs(0 - (i+1)*h)\n",
    "        g[N*i+N-1] = g[N*i+N-1] + 1 - abs(1 - (i+1)*h)\n",
    "    fh = g / (h**2)\n",
    "    \n",
    "    return Lh,fh\n",
    "\n",
    "N = 49 # grid points\n",
    "Lh,fh = get_bvp(N) \n",
    "uh = spsolve(Lh,fh)\n",
    "\n",
    "Uh = np.zeros([N,N])\n",
    "for i in range(N):\n",
    "    Uh[i] = uh[i*N:i*N+N]\n",
    "\n",
    "z = np.linspace(0,1,N)\n",
    "w = np.linspace(0,1,N)\n",
    "zz,ww = np.meshgrid(z,w)\n",
    "\n",
    "fig = plt.figure(figsize=(16,9))\n",
    "ax = plt.axes(projection='3d')\n",
    "ax.plot_surface(zz, ww, Uh.T,cmap='viridis', antialiased = True,edgecolor='none')\n",
    "ax.set_title('Plot of u(z,w)')\n",
    "ax.set_xlabel('z')\n",
    "ax.set_ylabel('w')\n",
    "ax.set_zlabel('u_h')"
   ]
  },
  {
   "cell_type": "code",
   "execution_count": 46,
   "metadata": {},
   "outputs": [],
   "source": [
    "z = np.linspace(0,1,N)\n",
    "w = np.linspace(0,1,N)\n",
    "x = []\n",
    "y = []\n",
    "for i in range(len(w)):\n",
    "    for j in range(len(z)):\n",
    "        x.append(z[j]-w[i])   # x = z-w\n",
    "        y.append(z[j]+w[i]-1) # y = z+w-1\n",
    " \n",
    "fig = plt.figure(figsize =(16, 9)) \n",
    "ax = plt.axes(projection ='3d') \n",
    " \n",
    "# Creating plot\n",
    "trisurf = ax.plot_trisurf(x, y, uh, linewidth = 0.2, antialiased = True, edgecolor = 'grey') \n",
    "ax.set_title('TriSurface plot')\n",
    "ax.set_xlabel('x (=z-w)')\n",
    "ax.set_ylabel('y (=z+w-1)')\n",
    "ax.set_zlabel('u_h')\n",
    "     \n",
    "plt.show()\n",
    "\n"
   ]
  },
  {
   "cell_type": "code",
   "execution_count": null,
   "metadata": {},
   "outputs": [],
   "source": []
  }
 ],
 "metadata": {
  "kernelspec": {
   "display_name": "Python 3",
   "language": "python",
   "name": "python3"
  },
  "language_info": {
   "codemirror_mode": {
    "name": "ipython",
    "version": 3
   },
   "file_extension": ".py",
   "mimetype": "text/x-python",
   "name": "python",
   "nbconvert_exporter": "python",
   "pygments_lexer": "ipython3",
   "version": "3.8.5"
  }
 },
 "nbformat": 4,
 "nbformat_minor": 4
}
